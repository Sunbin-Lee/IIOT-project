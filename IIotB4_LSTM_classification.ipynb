{
 "cells": [
  {
   "cell_type": "markdown",
   "id": "eb1820db",
   "metadata": {},
   "source": [
    "### 데이터 다운로드, 랜덤시드 설정"
   ]
  },
  {
   "cell_type": "code",
   "execution_count": 1,
   "id": "eae2ad4c",
   "metadata": {},
   "outputs": [],
   "source": [
    "import pandas as pd\n",
    "import numpy as np\n",
    "import torch\n",
    "random_seed = 123\n",
    "torch.manual_seed(random_seed)\n",
    "torch.cuda.manual_seed(random_seed)\n",
    "torch.backends.cudnn.deterministic = True\n",
    "torch.backends.cudnn.benchmark = False\n",
    "np.random.seed(random_seed)\n",
    "\n",
    "df_1 = pd.read_csv('data/normal_vec.csv', header=None)\n",
    "df_2 = pd.read_csv('data/abnormal_vec.csv', header=None)\n",
    "df_3 = pd.read_csv('data/error_vec.csv', header=None)"
   ]
  },
  {
   "cell_type": "markdown",
   "id": "adb1efc0",
   "metadata": {},
   "source": [
    "### normal, abnormal, error 인스턴스 생성"
   ]
  },
  {
   "cell_type": "code",
   "execution_count": 2,
   "id": "a7335fd4",
   "metadata": {},
   "outputs": [],
   "source": [
    "from sklearn.preprocessing import StandardScaler\n",
    "scaler = StandardScaler()\n",
    "def normal_make_instance(df):\n",
    "    scaler = StandardScaler()\n",
    "    noise = np.random.normal(0, 7, (15,6))\n",
    "    list_scaled = scaler.fit_transform(df + noise)\n",
    "    abc = np.concatenate((np.array([[0,0,0,0,0,0],[0,0,0,0,0,0],[0,0,0,0,0,0]]),list_scaled,np.array([[0,0,0,0,0,0],[0,0,0,0,0,0]])))\n",
    "    b = torch.from_numpy(abc)\n",
    "    instance = [b, 0]\n",
    "    return instance\n",
    "\n",
    "def abnormal_make_instance(df):\n",
    "    scaler = StandardScaler()\n",
    "    noise = np.random.normal(0, 7, (19,6))\n",
    "    list_scaled = scaler.fit_transform(df + noise)\n",
    "    abc = np.concatenate((list_scaled, np.array([[0,0,0,0,0,0]])))\n",
    "    b = torch.from_numpy(abc) \n",
    "    instance = [b, 1]\n",
    "    return instance\n",
    "\n",
    "def error_make_instance(df):\n",
    "    scaler = StandardScaler()\n",
    "    noise = np.random.normal(0, 7, (20,6))\n",
    "    list_scaled = scaler.fit_transform(df + noise)\n",
    "    b = torch.from_numpy(list_scaled)\n",
    "    instance = [b, 2]\n",
    "    return instance"
   ]
  },
  {
   "cell_type": "markdown",
   "id": "82b705c2",
   "metadata": {},
   "source": [
    "### train/val/test 데이터셋 생성\n",
    "### 각각 18000/6000/6000개 인스턴스 포함"
   ]
  },
  {
   "cell_type": "code",
   "execution_count": 3,
   "id": "c268f01d",
   "metadata": {},
   "outputs": [],
   "source": [
    "def make_ds(df_nor, df_ab, df_er, num):\n",
    "    dataset = []\n",
    "    for i in range(num):\n",
    "        dataset.append(normal_make_instance(df_nor))\n",
    "        dataset.append(abnormal_make_instance(df_ab))\n",
    "        dataset.append(error_make_instance(df_er))\n",
    "        \n",
    "    return dataset"
   ]
  },
  {
   "cell_type": "code",
   "execution_count": 4,
   "id": "fd00a7ab",
   "metadata": {},
   "outputs": [],
   "source": [
    "total_dataset = make_ds(df_1, df_2, df_3, 10000)"
   ]
  },
  {
   "cell_type": "code",
   "execution_count": 5,
   "id": "1b323995",
   "metadata": {},
   "outputs": [
    {
     "name": "stdout",
     "output_type": "stream",
     "text": [
      "train: [ 9465  4990 23348 ...  8551  7658 23236] test: [28621 18384 29068 ... 29031 11744 16112]\n",
      "24000 6000\n",
      "train: [20242 12026  6805 ... 21690 23550 22921] val: [ 6628  2421  8359 ... 20429 12307 18328]\n",
      "18000 6000\n"
     ]
    }
   ],
   "source": [
    "from sklearn.model_selection import StratifiedShuffleSplit\n",
    "from torch.utils.data import Subset\n",
    "\n",
    "sss = StratifiedShuffleSplit(n_splits = 1, test_size = 0.2, random_state = random_seed)\n",
    "indices = list(range(len(total_dataset)))\n",
    "y_ds = [y for _, y in total_dataset]\n",
    "\n",
    "for train_index, test_index in sss.split(indices, y_ds):\n",
    "    print('train:', train_index, 'test:', test_index)\n",
    "    print(len(train_index), len(test_index))\n",
    "\n",
    "sub_train = Subset(total_dataset, train_index)\n",
    "test_ds = Subset(total_dataset, test_index)\n",
    "\n",
    "sss2 = StratifiedShuffleSplit(n_splits = 1, test_size = 0.25, random_state = random_seed)\n",
    "indices2 = list(range(len(sub_train)))\n",
    "y_ds2 = [y for _, y in sub_train]\n",
    "\n",
    "for train_index2, val_index in sss2.split(indices2, y_ds2):\n",
    "    print('train:', train_index2, 'val:', val_index)\n",
    "    print(len(train_index2), len(val_index))\n",
    "\n",
    "train_ds = Subset(sub_train, train_index2)\n",
    "val_ds = Subset(sub_train, val_index)"
   ]
  },
  {
   "cell_type": "code",
   "execution_count": 6,
   "id": "f8607c1c",
   "metadata": {},
   "outputs": [
    {
     "data": {
      "text/plain": [
       "torch.Size([20, 6])"
      ]
     },
     "execution_count": 6,
     "metadata": {},
     "output_type": "execute_result"
    }
   ],
   "source": [
    "data, label = train_ds[0]\n",
    "data.size()"
   ]
  },
  {
   "cell_type": "code",
   "execution_count": 7,
   "id": "617375eb",
   "metadata": {},
   "outputs": [],
   "source": [
    "from torch.utils.data import DataLoader\n",
    "batch_size = 64\n",
    "train_loader = DataLoader(train_ds, batch_size= batch_size, shuffle=True, num_workers=8, drop_last=True)\n",
    "val_loader = DataLoader(val_ds, batch_size= batch_size, shuffle=True, num_workers=8, drop_last=True)\n",
    "test_loader = DataLoader(test_ds, batch_size= batch_size, shuffle=False, num_workers=8, drop_last=True)"
   ]
  },
  {
   "cell_type": "markdown",
   "id": "dc98aa47",
   "metadata": {},
   "source": [
    "### 데이터 분류를 위한 LSTM 모델 생성, hyperparameter 설정"
   ]
  },
  {
   "cell_type": "code",
   "execution_count": 8,
   "id": "f346b7b0",
   "metadata": {},
   "outputs": [],
   "source": [
    "import torch.nn as nn\n",
    "import torch.nn.functional as F\n",
    "import torch.optim as optim\n",
    "\n",
    "class LSTM(nn.Module):\n",
    "    def __init__(self, input_dim, hidden_dim, output_dim=3, num_layers=2):\n",
    "        super(LSTM, self).__init__()\n",
    "        self.input_dim = input_dim\n",
    "        self.hidden_dim = hidden_dim\n",
    "        self.num_layers = num_layers\n",
    "\n",
    "        # setup LSTM layer\n",
    "        self.lstm = nn.LSTM(self.input_dim, self.hidden_dim, self.num_layers)\n",
    "\n",
    "        # setup output layer\n",
    "        self.linear = nn.Linear(self.hidden_dim, output_dim)\n",
    "\n",
    "    def forward(self, input, hidden=None):\n",
    "        # lstm step => then ONLY take the sequence's final timetep to pass into the linear/dense layer\n",
    "        # Note: lstm_out contains outputs for every step of the sequence we are looping over (for BPTT)\n",
    "        # but we just need the output of the last step of the sequence, aka lstm_out[-1]\n",
    "        lstm_out, hidden = self.lstm(input, hidden)\n",
    "        logits = self.linear(lstm_out[-1])              # equivalent to return_sequences=False from Keras\n",
    "        #softmax = F.softmax(logits)\n",
    "\n",
    "        return logits, hidden"
   ]
  },
  {
   "cell_type": "code",
   "execution_count": 9,
   "id": "55498d7e",
   "metadata": {},
   "outputs": [],
   "source": [
    "model = LSTM(input_dim = 6, hidden_dim = 3, output_dim = 3, num_layers = 1).cuda()\n",
    "optimizer = optim.Adam(model.parameters(), lr=1e-4, weight_decay=1e-6)\n",
    "#lr_scheduler = optim.lr_scheduler.ReduceLROnPlateau(optimizer, mode='min', factor=0.1, patience=20, min_lr=1e-6, verbose=True)\n",
    "criterion = nn.CrossEntropyLoss()\n",
    "num_epochs = 100"
   ]
  },
  {
   "cell_type": "code",
   "execution_count": 10,
   "id": "f4dea310",
   "metadata": {},
   "outputs": [],
   "source": [
    "class AverageMeter(object):\n",
    "    \"\"\"Computes and stores the average and current value\"\"\"\n",
    "    def __init__(self):\n",
    "        self.reset()\n",
    "\n",
    "    def reset(self):\n",
    "        self.val = 0\n",
    "        self.avg = 0\n",
    "        self.sum = 0\n",
    "        self.count = 0\n",
    "\n",
    "    def update(self, val, n=1):\n",
    "        self.val = val\n",
    "        self.sum += val * n\n",
    "        self.count += n\n",
    "        self.avg = self.sum / self.count\n",
    "\n",
    "\n",
    "def Accuracy(output, target, topk=(1,)):\n",
    "    \"\"\"Computes the accuracy over the k top predictions for the specified values of k\"\"\"\n",
    "    with torch.no_grad():\n",
    "        maxk = max(topk)\n",
    "        batch_size = target.size(0)\n",
    "\n",
    "        _, pred = output.topk(maxk, 1, True, True)\n",
    "        pred = pred.t()\n",
    "        correct = pred.eq(target.view(1, -1).expand_as(pred))\n",
    "\n",
    "        res = []\n",
    "        for k in topk:\n",
    "            correct_k = correct[:k].contiguous().view(-1).float().sum(0, keepdim=True)\n",
    "            res.append(correct_k.mul_(100.0 / batch_size))\n",
    "        return res"
   ]
  },
  {
   "cell_type": "markdown",
   "id": "87164f10",
   "metadata": {},
   "source": [
    "### 학습\n",
    "### train set으로 학습, validation set으로 모델 평가"
   ]
  },
  {
   "cell_type": "code",
   "execution_count": 11,
   "id": "8da203c1",
   "metadata": {
    "scrolled": true
   },
   "outputs": [
    {
     "name": "stdout",
     "output_type": "stream",
     "text": [
      "Epoch : 1 , train_loss : 1.130, train_acc : 33.31, val_loss : 1.121, val_acc : 33.33 \n",
      "Epoch : 2 , train_loss : 1.109, train_acc : 33.34, val_loss : 1.096, val_acc : 33.28 \n",
      "Epoch : 3 , train_loss : 1.078, train_acc : 33.31, val_loss : 1.057, val_acc : 33.23 \n",
      "Epoch : 4 , train_loss : 1.029, train_acc : 33.13, val_loss : 0.998, val_acc : 33.17 \n",
      "Epoch : 5 , train_loss : 0.960, train_acc : 33.08, val_loss : 0.919, val_acc : 36.42 \n",
      "Epoch : 6 , train_loss : 0.875, train_acc : 55.15, val_loss : 0.832, val_acc : 65.41 \n",
      "Epoch : 7 , train_loss : 0.793, train_acc : 72.04, val_loss : 0.758, val_acc : 81.33 \n",
      "Epoch : 8 , train_loss : 0.727, train_acc : 90.40, val_loss : 0.698, val_acc : 95.56 \n",
      "Epoch : 9 , train_loss : 0.671, train_acc : 96.38, val_loss : 0.647, val_acc : 96.61 \n",
      "Epoch : 10 , train_loss : 0.623, train_acc : 96.72, val_loss : 0.602, val_acc : 96.66 \n",
      "Epoch : 11 , train_loss : 0.581, train_acc : 96.57, val_loss : 0.562, val_acc : 96.10 \n",
      "Epoch : 12 , train_loss : 0.543, train_acc : 96.35, val_loss : 0.526, val_acc : 95.95 \n",
      "Epoch : 13 , train_loss : 0.509, train_acc : 96.17, val_loss : 0.494, val_acc : 95.85 \n",
      "Epoch : 14 , train_loss : 0.478, train_acc : 96.15, val_loss : 0.465, val_acc : 95.77 \n",
      "Epoch : 15 , train_loss : 0.450, train_acc : 96.08, val_loss : 0.438, val_acc : 95.77 \n",
      "Epoch : 16 , train_loss : 0.425, train_acc : 96.09, val_loss : 0.414, val_acc : 95.78 \n",
      "Epoch : 17 , train_loss : 0.401, train_acc : 96.14, val_loss : 0.392, val_acc : 95.87 \n",
      "Epoch : 18 , train_loss : 0.380, train_acc : 96.22, val_loss : 0.371, val_acc : 96.00 \n",
      "Epoch : 19 , train_loss : 0.360, train_acc : 96.31, val_loss : 0.353, val_acc : 96.09 \n",
      "Epoch : 20 , train_loss : 0.342, train_acc : 96.35, val_loss : 0.335, val_acc : 96.17 \n",
      "Epoch : 21 , train_loss : 0.325, train_acc : 96.42, val_loss : 0.319, val_acc : 96.24 \n",
      "Epoch : 22 , train_loss : 0.309, train_acc : 96.50, val_loss : 0.304, val_acc : 96.37 \n",
      "Epoch : 23 , train_loss : 0.295, train_acc : 96.55, val_loss : 0.290, val_acc : 96.56 \n",
      "Epoch : 24 , train_loss : 0.281, train_acc : 96.71, val_loss : 0.277, val_acc : 96.59 \n",
      "Epoch : 25 , train_loss : 0.269, train_acc : 96.77, val_loss : 0.265, val_acc : 96.69 \n",
      "Epoch : 26 , train_loss : 0.257, train_acc : 96.89, val_loss : 0.254, val_acc : 96.72 \n",
      "Epoch : 27 , train_loss : 0.246, train_acc : 96.92, val_loss : 0.244, val_acc : 96.74 \n",
      "Epoch : 28 , train_loss : 0.236, train_acc : 96.98, val_loss : 0.234, val_acc : 96.86 \n",
      "Epoch : 29 , train_loss : 0.226, train_acc : 97.04, val_loss : 0.225, val_acc : 96.93 \n",
      "Epoch : 30 , train_loss : 0.217, train_acc : 97.06, val_loss : 0.216, val_acc : 96.91 \n",
      "Epoch : 31 , train_loss : 0.209, train_acc : 97.10, val_loss : 0.208, val_acc : 96.98 \n",
      "Epoch : 32 , train_loss : 0.201, train_acc : 97.15, val_loss : 0.200, val_acc : 97.03 \n",
      "Epoch : 33 , train_loss : 0.193, train_acc : 97.24, val_loss : 0.194, val_acc : 97.04 \n",
      "Epoch : 34 , train_loss : 0.186, train_acc : 97.31, val_loss : 0.186, val_acc : 97.16 \n",
      "Epoch : 35 , train_loss : 0.179, train_acc : 97.36, val_loss : 0.179, val_acc : 97.19 \n",
      "Epoch : 36 , train_loss : 0.173, train_acc : 97.44, val_loss : 0.173, val_acc : 97.19 \n",
      "Epoch : 37 , train_loss : 0.167, train_acc : 97.46, val_loss : 0.169, val_acc : 97.18 \n",
      "Epoch : 38 , train_loss : 0.162, train_acc : 97.49, val_loss : 0.163, val_acc : 97.30 \n",
      "Epoch : 39 , train_loss : 0.156, train_acc : 97.54, val_loss : 0.158, val_acc : 97.33 \n",
      "Epoch : 40 , train_loss : 0.151, train_acc : 97.58, val_loss : 0.153, val_acc : 97.40 \n",
      "Epoch : 41 , train_loss : 0.146, train_acc : 97.61, val_loss : 0.149, val_acc : 97.38 \n",
      "Epoch : 42 , train_loss : 0.142, train_acc : 97.64, val_loss : 0.145, val_acc : 97.45 \n",
      "Epoch : 43 , train_loss : 0.138, train_acc : 97.69, val_loss : 0.140, val_acc : 97.48 \n",
      "Epoch : 44 , train_loss : 0.133, train_acc : 97.72, val_loss : 0.136, val_acc : 97.53 \n",
      "Epoch : 45 , train_loss : 0.130, train_acc : 97.79, val_loss : 0.133, val_acc : 97.50 \n",
      "Epoch : 46 , train_loss : 0.126, train_acc : 97.84, val_loss : 0.129, val_acc : 97.55 \n",
      "Epoch : 47 , train_loss : 0.122, train_acc : 97.85, val_loss : 0.126, val_acc : 97.61 \n",
      "Epoch : 48 , train_loss : 0.119, train_acc : 97.88, val_loss : 0.123, val_acc : 97.63 \n",
      "Epoch : 49 , train_loss : 0.116, train_acc : 97.89, val_loss : 0.120, val_acc : 97.63 \n",
      "Epoch : 50 , train_loss : 0.113, train_acc : 97.94, val_loss : 0.117, val_acc : 97.68 \n",
      "Epoch : 51 , train_loss : 0.110, train_acc : 97.95, val_loss : 0.115, val_acc : 97.72 \n",
      "Epoch : 52 , train_loss : 0.108, train_acc : 98.03, val_loss : 0.112, val_acc : 97.73 \n",
      "Epoch : 53 , train_loss : 0.105, train_acc : 98.04, val_loss : 0.109, val_acc : 97.82 \n",
      "Epoch : 54 , train_loss : 0.103, train_acc : 98.06, val_loss : 0.107, val_acc : 97.82 \n",
      "Epoch : 55 , train_loss : 0.100, train_acc : 98.10, val_loss : 0.105, val_acc : 97.80 \n",
      "Epoch : 56 , train_loss : 0.098, train_acc : 98.12, val_loss : 0.103, val_acc : 97.87 \n",
      "Epoch : 57 , train_loss : 0.096, train_acc : 98.18, val_loss : 0.101, val_acc : 97.87 \n",
      "Epoch : 58 , train_loss : 0.094, train_acc : 98.19, val_loss : 0.099, val_acc : 97.90 \n",
      "Epoch : 59 , train_loss : 0.092, train_acc : 98.22, val_loss : 0.098, val_acc : 97.93 \n",
      "Epoch : 60 , train_loss : 0.090, train_acc : 98.21, val_loss : 0.096, val_acc : 97.92 \n",
      "Epoch : 61 , train_loss : 0.089, train_acc : 98.23, val_loss : 0.094, val_acc : 97.95 \n",
      "Epoch : 62 , train_loss : 0.087, train_acc : 98.25, val_loss : 0.093, val_acc : 98.00 \n",
      "Epoch : 63 , train_loss : 0.086, train_acc : 98.28, val_loss : 0.091, val_acc : 98.02 \n",
      "Epoch : 64 , train_loss : 0.084, train_acc : 98.29, val_loss : 0.090, val_acc : 98.03 \n",
      "Epoch : 65 , train_loss : 0.083, train_acc : 98.32, val_loss : 0.089, val_acc : 98.05 \n",
      "Epoch : 66 , train_loss : 0.081, train_acc : 98.34, val_loss : 0.087, val_acc : 98.08 \n",
      "Epoch : 67 , train_loss : 0.080, train_acc : 98.34, val_loss : 0.086, val_acc : 98.05 \n",
      "Epoch : 68 , train_loss : 0.079, train_acc : 98.38, val_loss : 0.085, val_acc : 98.05 \n",
      "Epoch : 69 , train_loss : 0.078, train_acc : 98.39, val_loss : 0.084, val_acc : 98.05 \n",
      "Epoch : 70 , train_loss : 0.077, train_acc : 98.43, val_loss : 0.082, val_acc : 98.07 \n",
      "Epoch : 71 , train_loss : 0.076, train_acc : 98.42, val_loss : 0.081, val_acc : 98.07 \n",
      "Epoch : 72 , train_loss : 0.075, train_acc : 98.44, val_loss : 0.081, val_acc : 98.10 \n",
      "Epoch : 73 , train_loss : 0.074, train_acc : 98.45, val_loss : 0.079, val_acc : 98.14 \n",
      "Epoch : 74 , train_loss : 0.073, train_acc : 98.45, val_loss : 0.079, val_acc : 98.15 \n",
      "Epoch : 75 , train_loss : 0.072, train_acc : 98.46, val_loss : 0.077, val_acc : 98.17 \n",
      "Epoch : 76 , train_loss : 0.071, train_acc : 98.49, val_loss : 0.077, val_acc : 98.17 \n",
      "Epoch : 77 , train_loss : 0.070, train_acc : 98.52, val_loss : 0.076, val_acc : 98.20 \n",
      "Epoch : 78 , train_loss : 0.069, train_acc : 98.53, val_loss : 0.075, val_acc : 98.20 \n",
      "Epoch : 79 , train_loss : 0.069, train_acc : 98.52, val_loss : 0.074, val_acc : 98.22 \n",
      "Epoch : 80 , train_loss : 0.068, train_acc : 98.53, val_loss : 0.073, val_acc : 98.30 \n",
      "Epoch : 81 , train_loss : 0.067, train_acc : 98.54, val_loss : 0.072, val_acc : 98.27 \n",
      "Epoch : 82 , train_loss : 0.066, train_acc : 98.54, val_loss : 0.072, val_acc : 98.27 \n",
      "Epoch : 83 , train_loss : 0.066, train_acc : 98.55, val_loss : 0.072, val_acc : 98.30 \n",
      "Epoch : 84 , train_loss : 0.065, train_acc : 98.57, val_loss : 0.071, val_acc : 98.30 \n",
      "Epoch : 85 , train_loss : 0.064, train_acc : 98.58, val_loss : 0.070, val_acc : 98.34 \n",
      "Epoch : 86 , train_loss : 0.064, train_acc : 98.60, val_loss : 0.069, val_acc : 98.35 \n",
      "Epoch : 87 , train_loss : 0.063, train_acc : 98.59, val_loss : 0.068, val_acc : 98.37 \n",
      "Epoch : 88 , train_loss : 0.063, train_acc : 98.59, val_loss : 0.068, val_acc : 98.35 \n",
      "Epoch : 89 , train_loss : 0.062, train_acc : 98.60, val_loss : 0.068, val_acc : 98.34 \n",
      "Epoch : 90 , train_loss : 0.061, train_acc : 98.63, val_loss : 0.067, val_acc : 98.35 \n",
      "Epoch : 91 , train_loss : 0.061, train_acc : 98.63, val_loss : 0.066, val_acc : 98.35 \n",
      "Epoch : 92 , train_loss : 0.060, train_acc : 98.63, val_loss : 0.066, val_acc : 98.34 \n",
      "Epoch : 93 , train_loss : 0.060, train_acc : 98.64, val_loss : 0.066, val_acc : 98.32 \n",
      "Epoch : 94 , train_loss : 0.059, train_acc : 98.64, val_loss : 0.064, val_acc : 98.35 \n",
      "Epoch : 95 , train_loss : 0.059, train_acc : 98.65, val_loss : 0.064, val_acc : 98.32 \n"
     ]
    },
    {
     "name": "stdout",
     "output_type": "stream",
     "text": [
      "Epoch : 96 , train_loss : 0.058, train_acc : 98.65, val_loss : 0.064, val_acc : 98.34 \n",
      "Epoch : 97 , train_loss : 0.058, train_acc : 98.67, val_loss : 0.063, val_acc : 98.35 \n",
      "Epoch : 98 , train_loss : 0.057, train_acc : 98.67, val_loss : 0.063, val_acc : 98.35 \n",
      "Epoch : 99 , train_loss : 0.057, train_acc : 98.67, val_loss : 0.063, val_acc : 98.34 \n",
      "Epoch : 100 , train_loss : 0.056, train_acc : 98.67, val_loss : 0.062, val_acc : 98.35 \n"
     ]
    }
   ],
   "source": [
    "train_loss_curve = []\n",
    "val_loss_curve = []\n",
    "train_acc_curve = []\n",
    "val_acc_curve = []\n",
    "\n",
    "stateful = False \n",
    "\n",
    "# If stateful=True, model uses hidden state to next batch\n",
    "# Batches are independent in our code, so we don't need to exchange information between batches\n",
    "\n",
    "for epoch in range(num_epochs):\n",
    "    hidden_state = None\n",
    "    model.train()\n",
    "    \n",
    "    train_losses = AverageMeter()\n",
    "    train_accs = AverageMeter()\n",
    "    for idx, (data, target) in enumerate(train_loader):\n",
    "        #print(data.shape)\n",
    "        data = data.permute(1,0,2).cuda()\n",
    "        target = target.cuda()\n",
    "        data = data.type(torch.cuda.FloatTensor)\n",
    "        y_pred, hidden_state = model(data, hidden_state)\n",
    "        #print(\"y_pred\",y_pred)\n",
    "\n",
    "        #stateful = False\n",
    "        if not stateful:\n",
    "            hidden_state = None\n",
    "        else:\n",
    "            h_0, c_0 = hidden_state\n",
    "            h_0.detach_(), c_0.detach_()\n",
    "            hidden_state = (h_0, c_0)\n",
    "\n",
    "        train_loss = criterion(y_pred, target)\n",
    "        #print(train_loss)\n",
    "        \n",
    "        train_losses.update(train_loss.item(), data.size(0)) \n",
    "        train_acc = Accuracy(y_pred, target)\n",
    "        train_accs.update(train_acc[0].item(), data.size(0))\n",
    "        \n",
    "        model.zero_grad()\n",
    "        train_loss.backward()  # backward pass\n",
    "        optimizer.step()  # parameter update\n",
    "        \n",
    "    train_loss_curve.append(train_losses.avg)\n",
    "    train_acc_curve.append(train_accs.avg)\n",
    "    #lr_scheduler.step(train_loss)\n",
    "\n",
    "    with torch.no_grad():\n",
    "        model.eval()\n",
    "        hidden_state = None\n",
    "        \n",
    "        val_losses = AverageMeter()\n",
    "        val_accs = AverageMeter()\n",
    "        \n",
    "        for idx, (data, target) in enumerate(val_loader):\n",
    "            data = data.permute(1,0,2).cuda()\n",
    "            target = target.cuda()\n",
    "            data = data.type(torch.cuda.FloatTensor)\n",
    "\n",
    "            y_pred, hidden_state = model(data, hidden_state)\n",
    "            \n",
    "            val_loss = criterion(y_pred, target)\n",
    "            val_losses.update(val_loss.item(), data.size(0)) \n",
    "\n",
    "            val_acc = Accuracy(y_pred, target)\n",
    "            val_accs.update(val_acc[0].item(), data.size(0))\n",
    "            \n",
    "            #stateful = True #?\n",
    "            if not stateful:\n",
    "                hidden_state = None\n",
    "#             else:\n",
    "#                 h_0, c_0 = hidden_state\n",
    "#                 h_0.detach_(), c_0.detach_()\n",
    "#                 hidden_state = (h_0, c_0)\n",
    "                \n",
    "        val_loss_curve.append(val_losses.avg)\n",
    "        val_acc_curve.append(val_accs.avg)\n",
    "    \n",
    "    print('Epoch : {} , train_loss : {:.3f}, train_acc : {:.2f}, val_loss : {:.3f}, val_acc : {:.2f} '.format(epoch+1, train_losses.avg, train_accs.avg, val_losses.avg, val_accs.avg))"
   ]
  },
  {
   "cell_type": "markdown",
   "id": "c6a0ac2e",
   "metadata": {},
   "source": [
    "### loss curve"
   ]
  },
  {
   "cell_type": "code",
   "execution_count": 12,
   "id": "2c7f7d2b",
   "metadata": {},
   "outputs": [
    {
     "data": {
      "image/png": "[encoded data removed]",
      "text/plain": [
       "<Figure size 432x288 with 1 Axes>"
      ]
     },
     "metadata": {
      "needs_background": "light"
     },
     "output_type": "display_data"
    }
   ],
   "source": [
    "import matplotlib.pyplot as plt\n",
    "\n",
    "e = np.arange(0, 100, 1)\n",
    "plt.plot(e, train_loss_curve)\n",
    "plt.plot(e, val_loss_curve)\n",
    "\n",
    "plt.legend(['train_loss', 'val_loss'])\n",
    "plt.show()"
   ]
  },
  {
   "cell_type": "markdown",
   "id": "8f978aa1",
   "metadata": {},
   "source": [
    "### accuracy curve"
   ]
  },
  {
   "cell_type": "code",
   "execution_count": 13,
   "id": "638266cc",
   "metadata": {
    "scrolled": true
   },
   "outputs": [
    {
     "data": {
      "image/png": "[encoded data removed]",
      "text/plain": [
       "<Figure size 432x288 with 1 Axes>"
      ]
     },
     "metadata": {
      "needs_background": "light"
     },
     "output_type": "display_data"
    }
   ],
   "source": [
    "e = np.arange(0, 100, 1)\n",
    "plt.plot(e, train_acc_curve)\n",
    "plt.plot(e, val_acc_curve)\n",
    "\n",
    "plt.legend(['train_acc', 'val_acc'])\n",
    "plt.show()"
   ]
  },
  {
   "cell_type": "markdown",
   "id": "85e2f10f",
   "metadata": {},
   "source": [
    "### 최종 평가 - test set"
   ]
  },
  {
   "cell_type": "code",
   "execution_count": 14,
   "id": "1d1d8360",
   "metadata": {},
   "outputs": [
    {
     "name": "stdout",
     "output_type": "stream",
     "text": [
      "test accuracy : 98.61\n"
     ]
    }
   ],
   "source": [
    "with torch.no_grad():\n",
    "    model.eval()\n",
    "    hidden_state = None\n",
    "\n",
    "    test_losses = AverageMeter()\n",
    "    test_accs = AverageMeter()\n",
    "    \n",
    "    for idx, (data, target) in enumerate(test_loader):\n",
    "    \n",
    "        data = data.permute(1,0,2).cuda()\n",
    "        target = target.cuda()\n",
    "        data = data.type(torch.cuda.FloatTensor)\n",
    "\n",
    "        y_pred, hidden_state = model(data, hidden_state)\n",
    "\n",
    "        test_loss = criterion(y_pred, target)\n",
    "        test_losses.update(test_loss.item(), data.size(0)) \n",
    "\n",
    "        test_acc = Accuracy(y_pred, target)\n",
    "        test_accs.update(test_acc[0].item(), data.size(0))\n",
    "\n",
    "        stateful = False \n",
    "        if not stateful:\n",
    "            hidden_state = None\n",
    "#         else:\n",
    "#             h_0, c_0 = hidden_state\n",
    "#             h_0.detach_(), c_0.detach_()\n",
    "#             hidden_state = (h_0, c_0)\n",
    "\n",
    "print('test accuracy : {:.2f}'.format(test_accs.avg))"
   ]
  }
 ],
 "metadata": {
  "kernelspec": {
   "display_name": "Python 3",
   "language": "python",
   "name": "python3"
  },
  "language_info": {
   "codemirror_mode": {
    "name": "ipython",
    "version": 3
   },
   "file_extension": ".py",
   "mimetype": "text/x-python",
   "name": "python",
   "nbconvert_exporter": "python",
   "pygments_lexer": "ipython3",
   "version": "3.7.11"
  }
 },
 "nbformat": 4,
 "nbformat_minor": 5
}
