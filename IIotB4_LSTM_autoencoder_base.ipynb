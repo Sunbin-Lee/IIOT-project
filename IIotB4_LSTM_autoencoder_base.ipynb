{
 "cells": [
  {
   "cell_type": "markdown",
   "id": "ecaa1a65",
   "metadata": {},
   "source": [
    "# 1. 데이터셋 구성\n",
    "### 불러오기"
   ]
  },
  {
   "cell_type": "code",
   "execution_count": 1,
   "id": "eae2ad4c",
   "metadata": {},
   "outputs": [
    {
     "data": {
      "text/plain": [
       "Discriminator(\n",
       "  (model): Sequential(\n",
       "    (0): Flatten(start_dim=1, end_dim=-1)\n",
       "    (1): Linear(in_features=120, out_features=64, bias=True)\n",
       "    (2): ReLU()\n",
       "    (3): Linear(in_features=64, out_features=1, bias=True)\n",
       "    (4): Sigmoid()\n",
       "  )\n",
       ")"
      ]
     },
     "execution_count": 1,
     "metadata": {},
     "output_type": "execute_result"
    }
   ],
   "source": [
    "import pandas as pd\n",
    "import numpy as np\n",
    "import matplotlib.pyplot as plt\n",
    "import torch\n",
    "import math\n",
    "\n",
    "import torch.nn as nn\n",
    "import torch.nn.functional as F\n",
    "\n",
    "from torch import optim\n",
    "from torch.autograd import Variable\n",
    "from torch.utils.data import DataLoader\n",
    "from torchvision import datasets, transforms\n",
    "from torchvision.transforms import ToTensor\n",
    "from sklearn.decomposition import PCA\n",
    "from sklearn.preprocessing import StandardScaler\n",
    "\n",
    "from model import Encoder, Decoder, Discriminator\n",
    "\n",
    "trained_model = torch.load('all.tar')\n",
    "netE = trained_model['netE']\n",
    "netD = trained_model['netD']\n",
    "netDis = trained_model['netDis']\n",
    "netE.load_state_dict(trained_model['netE_st_dict'])\n",
    "netD.load_state_dict(trained_model['netD_st_dict'])\n",
    "netDis.load_state_dict(trained_model['netDis_st_dict'])\n",
    "netE.eval()\n",
    "netD.eval()\n",
    "netDis.eval()"
   ]
  },
  {
   "cell_type": "markdown",
   "id": "6e3f04c1",
   "metadata": {},
   "source": [
    "### 랜덤 시드값 설정"
   ]
  },
  {
   "cell_type": "code",
   "execution_count": 2,
   "id": "73a42aca",
   "metadata": {},
   "outputs": [],
   "source": [
    "random_seed = 123\n",
    "torch.manual_seed(random_seed)\n",
    "torch.cuda.manual_seed(random_seed)\n",
    "torch.backends.cudnn.deterministic = True\n",
    "torch.backends.cudnn.benchmark = False\n",
    "np.random.seed(random_seed)\n",
    "\n",
    "df_1 = pd.read_csv('data/normal_vec.csv', header=None)\n",
    "df_2 = pd.read_csv('data/abnormal_vec.csv', header=None)\n",
    "df_3 = pd.read_csv('data/error_vec.csv', header=None)\n",
    "df_real = pd.read_csv('data/real_data.csv', header=None)"
   ]
  },
  {
   "cell_type": "markdown",
   "id": "a2e20615",
   "metadata": {},
   "source": [
    "### 데이터 표준화"
   ]
  },
  {
   "cell_type": "code",
   "execution_count": 3,
   "id": "d85afa91",
   "metadata": {},
   "outputs": [
    {
     "data": {
      "text/plain": [
       "StandardScaler()"
      ]
     },
     "execution_count": 3,
     "metadata": {},
     "output_type": "execute_result"
    }
   ],
   "source": [
    "from sklearn.preprocessing import StandardScaler\n",
    "scaler = StandardScaler()\n",
    "scaler.fit(pd.concat([df_1, df_2, df_3]))"
   ]
  },
  {
   "cell_type": "markdown",
   "id": "adb1efc0",
   "metadata": {},
   "source": [
    "### normal, abnormal, error Padding"
   ]
  },
  {
   "cell_type": "code",
   "execution_count": 4,
   "id": "a7335fd4",
   "metadata": {},
   "outputs": [],
   "source": [
    "def normal_make_instance(df):\n",
    "    noise = np.random.normal(0, 7, (15,6))\n",
    "    list_scaled = scaler.transform(df + noise)\n",
    "    abc = np.concatenate((np.array([[0,0,0,0,0,0],[0,0,0,0,0,0],[0,0,0,0,0,0]]),list_scaled,np.array([[0,0,0,0,0,0],[0,0,0,0,0,0]])))\n",
    "    b = torch.from_numpy(abc)\n",
    "    instance = [b, 0]\n",
    "    return instance\n",
    "\n",
    "def abnormal_make_instance(df):\n",
    "    noise = np.random.normal(0, 7, (19,6))\n",
    "    list_scaled = scaler.transform(df + noise)\n",
    "    abc = np.concatenate((list_scaled, np.array([[0,0,0,0,0,0]])))\n",
    "    b = torch.from_numpy(abc) \n",
    "    instance = [b, 1]\n",
    "    return instance\n",
    "\n",
    "def error_make_instance(df):\n",
    "    noise = np.random.normal(0, 7, (20,6))\n",
    "    list_scaled = scaler.transform(df + noise)\n",
    "    b = torch.from_numpy(list_scaled)\n",
    "    instance = [b, 2]\n",
    "    return instance"
   ]
  },
  {
   "cell_type": "markdown",
   "id": "82b705c2",
   "metadata": {},
   "source": [
    "### train/val/test 데이터셋 생성\n",
    "### 각각 30000/6000/6000개 인스턴스 포함"
   ]
  },
  {
   "cell_type": "code",
   "execution_count": 5,
   "id": "c268f01d",
   "metadata": {},
   "outputs": [],
   "source": [
    "import copy\n",
    "\n",
    "def make_ds_nor(df_nor, num):\n",
    "    dataset = []\n",
    "    for i in range(num):\n",
    "        aa = copy.copy([netD(netE(normal_make_instance(df_nor)[0].unsqueeze(0).float())).squeeze(),  \n",
    "                        normal_make_instance(df_nor)[1]])\n",
    "        dataset.append(aa)\n",
    "        if i % 1000 == 999 :\n",
    "            print('data gernerate : {}'.format(i + 1))\n",
    "    return dataset\n",
    "\n",
    "def make_ds_abn(df_abn, num):\n",
    "    dataset = []\n",
    "    for i in range(num):\n",
    "        aa = copy.copy([netD(netE(abnormal_make_instance(df_abn)[0].unsqueeze(0).float())).squeeze(),  \n",
    "                        abnormal_make_instance(df_abn)[1]])\n",
    "        dataset.append(aa)\n",
    "        if i % 1000 == 999 :\n",
    "            print('data gernerate : {}'.format(i + 1))\n",
    "    return dataset\n",
    "\n",
    "def make_ds_err(df_err, num):\n",
    "    dataset = []\n",
    "    for i in range(num):\n",
    "        aa = copy.copy([netD(netE(error_make_instance(df_err)[0].unsqueeze(0).float())).squeeze(),  \n",
    "                        error_make_instance(df_err)[1]])\n",
    "        dataset.append(aa)\n",
    "        if i % 1000 == 999 :\n",
    "            print('data gernerate : {}'.format(i + 1))\n",
    "    return dataset"
   ]
  },
  {
   "cell_type": "code",
   "execution_count": 6,
   "id": "fd00a7ab",
   "metadata": {},
   "outputs": [
    {
     "name": "stdout",
     "output_type": "stream",
     "text": [
      "data gernerate : 1000\n",
      "data gernerate : 2000\n",
      "data gernerate : 3000\n",
      "data gernerate : 4000\n",
      "data gernerate : 5000\n",
      "data gernerate : 6000\n",
      "data gernerate : 7000\n",
      "data gernerate : 8000\n",
      "data gernerate : 9000\n",
      "data gernerate : 10000\n",
      "data gernerate : 11000\n",
      "data gernerate : 12000\n",
      "data gernerate : 13000\n",
      "data gernerate : 14000\n",
      "data gernerate : 15000\n",
      "data gernerate : 16000\n",
      "data gernerate : 17000\n",
      "data gernerate : 18000\n",
      "data gernerate : 19000\n",
      "data gernerate : 20000\n",
      "data gernerate : 21000\n",
      "data gernerate : 22000\n",
      "data gernerate : 23000\n",
      "data gernerate : 24000\n",
      "data gernerate : 25000\n",
      "data gernerate : 26000\n",
      "data gernerate : 27000\n",
      "data gernerate : 28000\n",
      "data gernerate : 29000\n",
      "data gernerate : 30000\n",
      "data gernerate : 1000\n",
      "data gernerate : 2000\n",
      "data gernerate : 3000\n",
      "data gernerate : 4000\n",
      "data gernerate : 5000\n",
      "data gernerate : 6000\n",
      "data gernerate : 1000\n",
      "data gernerate : 2000\n",
      "data gernerate : 3000\n",
      "data gernerate : 4000\n",
      "data gernerate : 5000\n",
      "data gernerate : 6000\n"
     ]
    }
   ],
   "source": [
    "total_dataset = make_ds_nor(df_1, 30000)\n",
    "abn_ds = make_ds_abn(df_2, 6000)\n",
    "err_ds = make_ds_err(df_3, 6000)"
   ]
  },
  {
   "cell_type": "code",
   "execution_count": 7,
   "id": "1b323995",
   "metadata": {},
   "outputs": [
    {
     "name": "stdout",
     "output_type": "stream",
     "text": [
      "train: [28760 11189 27698 ...  3696  3255  6056] test: [ 8569 10713  5779 ... 16435 26523 14030]\n",
      "24000 6000\n",
      "train: [12364 23772 18756 ...  4878 10895   663] val: [23759 13910 13237 ... 18298  5260  7459]\n",
      "18000 6000\n"
     ]
    }
   ],
   "source": [
    "from sklearn.model_selection import StratifiedShuffleSplit\n",
    "from torch.utils.data import Subset\n",
    "\n",
    "sss = StratifiedShuffleSplit(n_splits = 1, test_size = 0.2, random_state = random_seed)\n",
    "indices = list(range(len(total_dataset)))\n",
    "y_ds = [y for _, y in total_dataset]\n",
    "\n",
    "for train_index, test_index in sss.split(indices, y_ds):\n",
    "    print('train:', train_index, 'test:', test_index)\n",
    "    print(len(train_index), len(test_index))\n",
    "\n",
    "sub_train = Subset(total_dataset, train_index)\n",
    "test_ds = Subset(total_dataset, test_index)\n",
    "\n",
    "sss2 = StratifiedShuffleSplit(n_splits = 1, test_size = 0.25, random_state = random_seed)\n",
    "indices2 = list(range(len(sub_train)))\n",
    "y_ds2 = [y for _, y in sub_train]\n",
    "\n",
    "for train_index2, val_index in sss2.split(indices2, y_ds2):\n",
    "    print('train:', train_index2, 'val:', val_index)\n",
    "    print(len(train_index2), len(val_index))\n",
    "\n",
    "train_ds = Subset(sub_train, train_index2)\n",
    "val_ds = Subset(sub_train, val_index)"
   ]
  },
  {
   "cell_type": "code",
   "execution_count": 8,
   "id": "f8607c1c",
   "metadata": {},
   "outputs": [
    {
     "data": {
      "text/plain": [
       "torch.Size([20, 6])"
      ]
     },
     "execution_count": 8,
     "metadata": {},
     "output_type": "execute_result"
    }
   ],
   "source": [
    "data, label = train_ds[0]\n",
    "data.size()"
   ]
  },
  {
   "cell_type": "code",
   "execution_count": 9,
   "id": "617375eb",
   "metadata": {},
   "outputs": [],
   "source": [
    "from torch.utils.data import DataLoader\n",
    "batch_size = 64\n",
    "train_loader = DataLoader(train_ds, batch_size=batch_size, shuffle=True, drop_last=True)\n",
    "val_loader = DataLoader(val_ds, batch_size=batch_size, shuffle=True, drop_last=True)"
   ]
  },
  {
   "cell_type": "markdown",
   "id": "dc98aa47",
   "metadata": {},
   "source": [
    "# 2. 모델 구성\n",
    "\n",
    "### 모델 생성, hyperparameter 설정"
   ]
  },
  {
   "cell_type": "code",
   "execution_count": 10,
   "id": "f346b7b0",
   "metadata": {},
   "outputs": [],
   "source": [
    "import torch.nn as nn\n",
    "import torch.nn.functional as F\n",
    "import torch.optim as optim\n",
    "\n",
    "class Encoder(nn.Module):\n",
    "    def __init__(self, seq_len, n_features, embedding_dim=64):\n",
    "        super(Encoder, self).__init__()\n",
    "        self.seq_len, self.n_features = seq_len, n_features\n",
    "        self.embedding_dim, self.hidden_dim = (\n",
    "            embedding_dim, 2 * embedding_dim\n",
    "        )\n",
    "        self.rnn1 = nn.LSTM(\n",
    "          input_size=n_features,\n",
    "          hidden_size=self.hidden_dim,\n",
    "          num_layers=1,\n",
    "          batch_first=True\n",
    "        )\n",
    "        self.rnn2 = nn.LSTM(\n",
    "          input_size=self.hidden_dim,\n",
    "          hidden_size=embedding_dim,\n",
    "          num_layers=1,\n",
    "          batch_first=True\n",
    "        )\n",
    "    def forward(self, x):\n",
    "        x, (_, _) = self.rnn1(x)\n",
    "        x, (hidden_n, _) = self.rnn2(x)\n",
    "        return  x[:,-1,:]\n",
    "    \n",
    "class TimeDistributed(nn.Module):\n",
    "    def __init__(self, module, batch_first=False):\n",
    "        super(TimeDistributed, self).__init__()\n",
    "        self.module = module\n",
    "        self.batch_first = batch_first\n",
    "\n",
    "    def forward(self, x):\n",
    "        if len(x.size()) <= 2:\n",
    "            return self.module(x)\n",
    "        # Squash samples and timesteps into a single axis\n",
    "        x_reshape = x.contiguous().view(-1, x.size(-1))  # (samples * timesteps, input_size)\n",
    "        y = self.module(x_reshape)\n",
    "        # We have to reshape Y\n",
    "        if self.batch_first:\n",
    "            y = y.contiguous().view(x.size(0), -1, y.size(-1))  # (samples, timesteps, output_size)\n",
    "        else:\n",
    "            y = y.view(-1, x.size(1), y.size(-1))  # (timesteps, samples, output_size)\n",
    "        return y\n",
    "    \n",
    "\n",
    "class Decoder(nn.Module):\n",
    "    def __init__(self, seq_len, input_dim=64, n_features=1):\n",
    "        super(Decoder, self).__init__()\n",
    "        self.seq_len, self.input_dim = seq_len, input_dim\n",
    "        self.hidden_dim, self.n_features = 2 * input_dim, n_features\n",
    "        self.rnn1 = nn.LSTM(\n",
    "          input_size=input_dim,\n",
    "          hidden_size=input_dim,\n",
    "          num_layers=1,\n",
    "          batch_first=True\n",
    "        )\n",
    "        self.rnn2 = nn.LSTM(\n",
    "          input_size=input_dim,\n",
    "          hidden_size=self.hidden_dim,\n",
    "          num_layers=1,\n",
    "          batch_first=True\n",
    "        )\n",
    "        self.output_layer = torch.nn.Linear(self.hidden_dim, n_features)\n",
    "        self.timedist = TimeDistributed(self.output_layer)\n",
    "        \n",
    "    def forward(self, x):\n",
    "        x=x.reshape(-1,1,self.input_dim).repeat(1,self.seq_len,1)       \n",
    "        x, (hidden_n, cell_n) = self.rnn1(x)\n",
    "        x, (hidden_n, cell_n) = self.rnn2(x)\n",
    "        return self.timedist(x)\n",
    "\n",
    "class RecurrentAutoencoder(nn.Module):\n",
    "    def __init__(self, seq_len, n_features, embedding_dim=64):\n",
    "        super(RecurrentAutoencoder, self).__init__()\n",
    "        self.encoder = Encoder(seq_len, n_features, embedding_dim)#.to(device)\n",
    "        self.decoder = Decoder(seq_len, embedding_dim, n_features)#.to(device)\n",
    "    def forward(self, x):\n",
    "        x = self.encoder(x)\n",
    "        x = self.decoder(x)\n",
    "        return x\n"
   ]
  },
  {
   "cell_type": "code",
   "execution_count": 11,
   "id": "55498d7e",
   "metadata": {},
   "outputs": [],
   "source": [
    "model = RecurrentAutoencoder(20, 6, 64).cuda()\n",
    "model.load_state_dict(torch.load('autolstm2.pt'))\n",
    "model.eval()\n",
    "optimizer = optim.Adam(model.parameters(), lr=1e-4, weight_decay=1e-6)\n",
    "#lr_scheduler = optim.lr_scheduler.ReduceLROnPlateau(optimizer, mode='min', factor=0.1, patience=20, min_lr=1e-6, verbose=True)\n",
    "criterion = nn.L1Loss(reduction='sum')\n",
    "num_epochs = 1000"
   ]
  },
  {
   "cell_type": "code",
   "execution_count": 12,
   "id": "f4dea310",
   "metadata": {},
   "outputs": [],
   "source": [
    "class AverageMeter(object):\n",
    "    \"\"\"Computes and stores the average and current value\"\"\"\n",
    "    def __init__(self):\n",
    "        self.reset()\n",
    "\n",
    "    def reset(self):\n",
    "        self.val = 0\n",
    "        self.avg = 0\n",
    "        self.sum = 0\n",
    "        self.count = 0\n",
    "\n",
    "    def update(self, val, n=1):\n",
    "        self.val = val\n",
    "        self.sum += val * n\n",
    "        self.count += n\n",
    "        self.avg = self.sum / self.count\n",
    "\n",
    "\n",
    "def Accuracy(output, target, topk=(1,)):\n",
    "    \"\"\"Computes the accuracy over the k top predictions for the specified values of k\"\"\"\n",
    "    with torch.no_grad():\n",
    "        maxk = max(topk)\n",
    "        batch_size = target.size(0)\n",
    "\n",
    "        _, pred = output.topk(maxk, 1, True, True)\n",
    "        pred = pred.t()\n",
    "        correct = pred.eq(target.view(1, -1).expand_as(pred))\n",
    "\n",
    "        res = []\n",
    "        for k in topk:\n",
    "            correct_k = correct[:k].contiguous().view(-1).float().sum(0, keepdim=True)\n",
    "            res.append(correct_k.mul_(100.0 / batch_size))\n",
    "        return res"
   ]
  },
  {
   "cell_type": "code",
   "execution_count": 13,
   "id": "d179da1f",
   "metadata": {},
   "outputs": [],
   "source": [
    "class EarlyStopping:\n",
    "    \"\"\"주어진 patience 이후로 validation loss가 개선되지 않으면 학습을 조기 중지\"\"\"\n",
    "    def __init__(self, patience=5, verbose=False, delta=0, path='checkpoint.pt'):\n",
    "        \"\"\"\n",
    "        Args:\n",
    "            patience (int): validation loss가 개선된 후 기다리는 기간\n",
    "                            Default: 7\n",
    "            verbose (bool): True일 경우 각 validation loss의 개선 사항 메세지 출력\n",
    "                            Default: False\n",
    "            delta (float): 개선되었다고 인정되는 monitered quantity의 최소 변화\n",
    "                            Default: 0\n",
    "            path (str): checkpoint저장 경로\n",
    "                            Default: 'checkpoint.pt'\n",
    "        \"\"\"\n",
    "        self.patience = patience\n",
    "        self.verbose = verbose\n",
    "        self.counter = 0\n",
    "        self.best_score = None\n",
    "        self.early_stop = False\n",
    "        self.val_loss_min = np.Inf\n",
    "        self.delta = delta\n",
    "        self.path = path\n",
    "\n",
    "    def __call__(self, val_loss, model):\n",
    "\n",
    "        score = -val_loss\n",
    "\n",
    "        if self.best_score is None:\n",
    "            self.best_score = score\n",
    "            self.save_checkpoint(val_loss, model)\n",
    "        elif score < self.best_score + self.delta:\n",
    "            self.counter += 1\n",
    "            print(f'EarlyStopping counter: {self.counter} out of {self.patience}')\n",
    "            if self.counter >= self.patience:\n",
    "                self.early_stop = True\n",
    "        else:\n",
    "            self.best_score = score\n",
    "            self.save_checkpoint(val_loss, model)\n",
    "            self.counter = 0\n",
    "\n",
    "    def save_checkpoint(self, val_loss, model):\n",
    "        '''validation loss가 감소하면 모델을 저장한다.'''\n",
    "        if self.verbose:\n",
    "            print(f'Validation loss decreased ({self.val_loss_min:.6f} --> {val_loss:.6f}).  Saving model ...')\n",
    "        torch.save(model.state_dict(), self.path)\n",
    "        self.val_loss_min = val_loss"
   ]
  },
  {
   "cell_type": "markdown",
   "id": "87164f10",
   "metadata": {},
   "source": [
    "# 3. 모델 학습"
   ]
  },
  {
   "cell_type": "code",
   "execution_count": 14,
   "id": "8da203c1",
   "metadata": {
    "scrolled": false
   },
   "outputs": [
    {
     "data": {
      "text/plain": [
       "'\\ntrain_loss_curve = []\\nval_loss_curve = []\\n\\nearly_stopping = EarlyStopping(patience = 10, verbose = True, path = \\'autolstm3.pt\\')\\nfor epoch in range(num_epochs):\\n    model.train()\\n    train_losses = AverageMeter()\\n    for idx, (data, target) in enumerate(train_loader):\\n        #data = data.permute(1,0,2).cuda()\\n        data = data.cuda()\\n        target = target.cuda()\\n        data = data.type(torch.cuda.FloatTensor)\\n        y_pred = model(data)\\n        #print(\"y_pred\",y_pred)\\n\\n        train_loss = criterion(y_pred, data)\\n        #print(train_loss)\\n\\n        train_losses.update(train_loss.item(), data.size(0)) \\n\\n        model.zero_grad()\\n        train_loss.backward(retain_graph=True)  # backward pass\\n        optimizer.step()  # parameter update\\n\\n    train_loss_curve.append(train_losses.avg)\\n    #lr_scheduler.step(train_loss)\\n\\n    with torch.no_grad():\\n        model.eval()\\n\\n        val_losses = AverageMeter()\\n        \\n        for idx, (data, target) in enumerate(val_loader):\\n            #data = data.permute(1,0,2).cuda()\\n            data = data.cuda()\\n            target = target.cuda()\\n            data = data.type(torch.cuda.FloatTensor)\\n\\n            y_pred = model(data)\\n\\n            val_loss = criterion(y_pred, data)\\n            val_losses.update(val_loss.item(), data.size(0)) \\n\\n        val_loss_curve.append(val_losses.avg)\\n        early_stopping(val_losses.avg, model)\\n        if early_stopping.early_stop:\\n            print(\"Early stopping\")\\n            break\\n\\n    print(\\'Epoch : {} , train_loss : {:.3f}, val_loss : {:.3f}\\'.format(epoch+1, train_losses.avg,  val_losses.avg))\\n'"
      ]
     },
     "execution_count": 14,
     "metadata": {},
     "output_type": "execute_result"
    }
   ],
   "source": [
    "\"\"\"\n",
    "train_loss_curve = []\n",
    "val_loss_curve = []\n",
    "\n",
    "early_stopping = EarlyStopping(patience = 10, verbose = True, path = 'autolstm3.pt')\n",
    "for epoch in range(num_epochs):\n",
    "    model.train()\n",
    "    train_losses = AverageMeter()\n",
    "    for idx, (data, target) in enumerate(train_loader):\n",
    "        #data = data.permute(1,0,2).cuda()\n",
    "        data = data.cuda()\n",
    "        target = target.cuda()\n",
    "        data = data.type(torch.cuda.FloatTensor)\n",
    "        y_pred = model(data)\n",
    "        #print(\"y_pred\",y_pred)\n",
    "\n",
    "        train_loss = criterion(y_pred, data)\n",
    "        #print(train_loss)\n",
    "\n",
    "        train_losses.update(train_loss.item(), data.size(0)) \n",
    "\n",
    "        model.zero_grad()\n",
    "        train_loss.backward(retain_graph=True)  # backward pass\n",
    "        optimizer.step()  # parameter update\n",
    "\n",
    "    train_loss_curve.append(train_losses.avg)\n",
    "    #lr_scheduler.step(train_loss)\n",
    "\n",
    "    with torch.no_grad():\n",
    "        model.eval()\n",
    "\n",
    "        val_losses = AverageMeter()\n",
    "        \n",
    "        for idx, (data, target) in enumerate(val_loader):\n",
    "            #data = data.permute(1,0,2).cuda()\n",
    "            data = data.cuda()\n",
    "            target = target.cuda()\n",
    "            data = data.type(torch.cuda.FloatTensor)\n",
    "\n",
    "            y_pred = model(data)\n",
    "\n",
    "            val_loss = criterion(y_pred, data)\n",
    "            val_losses.update(val_loss.item(), data.size(0)) \n",
    "\n",
    "        val_loss_curve.append(val_losses.avg)\n",
    "        early_stopping(val_losses.avg, model)\n",
    "        if early_stopping.early_stop:\n",
    "            print(\"Early stopping\")\n",
    "            break\n",
    "\n",
    "    print('Epoch : {} , train_loss : {:.3f}, val_loss : {:.3f}'.format(epoch+1, train_losses.avg,  val_losses.avg))\n",
    "\"\"\""
   ]
  },
  {
   "cell_type": "markdown",
   "id": "eb96052f",
   "metadata": {},
   "source": [
    "# 4. 모델 평가\n",
    "\n",
    "### 데이터 복원"
   ]
  },
  {
   "cell_type": "code",
   "execution_count": 15,
   "id": "e8bc1107",
   "metadata": {},
   "outputs": [],
   "source": [
    "sample_loader = DataLoader(train_ds, batch_size= 1, shuffle=True, drop_last=True)\n",
    "err_loader = DataLoader(err_ds, batch_size=1, shuffle = True, drop_last = True)"
   ]
  },
  {
   "cell_type": "code",
   "execution_count": 24,
   "id": "8e136609",
   "metadata": {},
   "outputs": [],
   "source": [
    "nor_sample = next(iter(sample_loader))\n",
    "err_sample = next(iter(err_loader))"
   ]
  },
  {
   "cell_type": "code",
   "execution_count": 25,
   "id": "7a083bd9",
   "metadata": {},
   "outputs": [],
   "source": [
    "predict_nor = model(nor_sample[0].reshape(1,20,6).cuda().float())\n",
    "predict_err = model(err_sample[0].reshape(1,20,6).cuda().float())"
   ]
  },
  {
   "cell_type": "markdown",
   "id": "6a39c36c",
   "metadata": {},
   "source": [
    "### 정상 데이터 예측 \n",
    "#### 학습된 모델을 통한 데이터 복원이 원래 데이터와 거의 일치함 (학습 very good)"
   ]
  },
  {
   "cell_type": "code",
   "execution_count": 26,
   "id": "41512645",
   "metadata": {},
   "outputs": [
    {
     "data": {
      "image/png": "[encoded data removed]",
      "text/plain": [
       "<Figure size 864x288 with 1 Axes>"
      ]
     },
     "metadata": {
      "needs_background": "light"
     },
     "output_type": "display_data"
    }
   ],
   "source": [
    "import matplotlib.pyplot as plt\n",
    "plt.figure(figsize=(12,4))\n",
    "\n",
    "# node 1에 대해서만 plot\n",
    "t = np.arange(0, 20, 1)\n",
    "nor_input = pd.DataFrame(nor_sample[0][0]).iloc[:, 0]\n",
    "nor_output = pd.DataFrame(predict_nor[0]).iloc[:, 0] \n",
    "plt.plot(t, nor_input)\n",
    "plt.plot(t, nor_output)\n",
    "\n",
    "plt.legend(['normal_input', 'normal_output'])\n",
    "plt.show()"
   ]
  },
  {
   "cell_type": "markdown",
   "id": "445738c9",
   "metadata": {},
   "source": [
    "### 오류 데이터 예측\n",
    "#### 학습된 모델을 통한 데이터 복원이 잘 이루어지지 않음 (정상데이터와 불량 데이터를 잘 구분함)"
   ]
  },
  {
   "cell_type": "code",
   "execution_count": 27,
   "id": "08aa29b4",
   "metadata": {},
   "outputs": [
    {
     "data": {
      "image/png": "[encoded data removed]",
      "text/plain": [
       "<Figure size 864x288 with 1 Axes>"
      ]
     },
     "metadata": {
      "needs_background": "light"
     },
     "output_type": "display_data"
    }
   ],
   "source": [
    "plt.figure(figsize=(12,4))\n",
    "\n",
    "# node 1에 대해서만 plot\n",
    "t = np.arange(0, 20, 1)\n",
    "nor_input = pd.DataFrame(err_sample[0][0]).iloc[:, 0]\n",
    "nor_output = pd.DataFrame(predict_err[0]).iloc[:, 0] \n",
    "plt.plot(t, nor_input)\n",
    "plt.plot(t, nor_output)\n",
    "\n",
    "plt.legend(['error_input', 'error_output'])\n",
    "plt.show()"
   ]
  },
  {
   "cell_type": "markdown",
   "id": "85e2f10f",
   "metadata": {},
   "source": [
    "### 평가 및 threshold 결정"
   ]
  },
  {
   "cell_type": "code",
   "execution_count": 20,
   "id": "28e331a0",
   "metadata": {},
   "outputs": [],
   "source": [
    "abn_loader = DataLoader(abn_ds, batch_size=1, shuffle=True, drop_last=True)\n",
    "err_loader = DataLoader(err_ds, batch_size=1, shuffle=True, drop_last=True)\n",
    "test_loader = DataLoader(test_ds, batch_size=1, shuffle=True, drop_last=True)"
   ]
  },
  {
   "cell_type": "code",
   "execution_count": 21,
   "id": "d212226e",
   "metadata": {},
   "outputs": [],
   "source": [
    "#criterion2 = nn.MSELoss()\n",
    "with torch.no_grad():\n",
    "    model.eval()\n",
    "    abn_losses = []\n",
    "    err_losses = []\n",
    "    test_losses = []\n",
    "    \n",
    "    for idx, (data, target) in enumerate(test_loader):\n",
    "        data = data.cuda()\n",
    "        target = target.cuda()\n",
    "        data = data.type(torch.cuda.FloatTensor)\n",
    "        y_pred = model(data)\n",
    "\n",
    "        loss = criterion(y_pred, data)\n",
    "        test_losses.append(loss.item())\n",
    "    \n",
    "    for idx, (data, target) in enumerate(abn_loader):\n",
    "        data = data.cuda()\n",
    "        target = target.cuda()\n",
    "        data = data.type(torch.cuda.FloatTensor)\n",
    "        y_pred = model(data)\n",
    "\n",
    "        loss = criterion(y_pred, data)\n",
    "        abn_losses.append(loss.item())\n",
    "    \n",
    "    for idx, (data, target) in enumerate(err_loader):\n",
    "        data = data.cuda()\n",
    "        target = target.cuda()\n",
    "        data = data.type(torch.cuda.FloatTensor)\n",
    "        y_pred = model(data)\n",
    "\n",
    "        loss = criterion(y_pred, data)\n",
    "        err_losses.append(loss.item())\n",
    "\n",
    "abn_loss = np.mean(abn_losses)\n",
    "err_loss = np.mean(err_losses)"
   ]
  },
  {
   "cell_type": "code",
   "execution_count": 22,
   "id": "2cce63e9",
   "metadata": {
    "scrolled": true
   },
   "outputs": [
    {
     "name": "stdout",
     "output_type": "stream",
     "text": [
      "test_loss 5.142725357274214\n",
      "abn_loss: 46.76182905960083\n",
      "err_loss: 41.35799009291331\n"
     ]
    }
   ],
   "source": [
    "print('test_loss',np.mean(test_losses))\n",
    "print('abn_loss:',abn_loss)\n",
    "print('err_loss:',err_loss)"
   ]
  },
  {
   "cell_type": "markdown",
   "id": "f3dc8a61",
   "metadata": {},
   "source": [
    "### anomaly score 분포 (초록: 정상, 노랑: 주의, 빨강: 오류) (낮을수록좋음, 정상과 불량 분류 잘함)"
   ]
  },
  {
   "cell_type": "code",
   "execution_count": 23,
   "id": "d7b95e38",
   "metadata": {},
   "outputs": [
    {
     "data": {
      "image/png": "[encoded data removed]",
      "text/plain": [
       "<Figure size 432x288 with 1 Axes>"
      ]
     },
     "metadata": {
      "needs_background": "light"
     },
     "output_type": "display_data"
    }
   ],
   "source": [
    "import seaborn as sns\n",
    "\n",
    "sns.histplot(test_losses, color=\"green\")\n",
    "sns.histplot(abn_losses, color=\"red\")\n",
    "sns.histplot(err_losses, color=\"yellow\")\n",
    "plt.show()"
   ]
  }
 ],
 "metadata": {
  "kernelspec": {
   "display_name": "Python 3",
   "language": "python",
   "name": "python3"
  },
  "language_info": {
   "codemirror_mode": {
    "name": "ipython",
    "version": 3
   },
   "file_extension": ".py",
   "mimetype": "text/x-python",
   "name": "python",
   "nbconvert_exporter": "python",
   "pygments_lexer": "ipython3",
   "version": "3.7.11"
  }
 },
 "nbformat": 4,
 "nbformat_minor": 5
}
